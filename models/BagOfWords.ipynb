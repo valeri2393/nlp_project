{
 "cells": [
  {
   "cell_type": "code",
   "execution_count": 58,
   "metadata": {},
   "outputs": [],
   "source": [
    "# работа с таблицами\n",
    "import numpy as np\n",
    "import pandas as pd\n",
    "# импорт данных\n",
    "import json\n",
    "# отображение текстовых данных по ширине окна\n",
    "import textwrap\n",
    "# проверка на наличие эмодзи\n",
    "import emoji\n",
    "# очистка текста\n",
    "import re\n",
    "import string\n",
    "# лемматизация\n",
    "import pymorphy3\n",
    "# векторизация текста\n",
    "from sklearn.feature_extraction.text import TfidfVectorizer\n",
    "\n",
    "from sklearn.model_selection import train_test_split\n",
    "from sklearn.linear_model import LogisticRegression\n",
    "# метрики\n",
    "from sklearn.metrics import accuracy_score\n",
    "from sklearn.metrics import f1_score\n",
    "import time\n",
    "\n",
    "import matplotlib.pyplot as plt\n",
    "\n",
    "import mplcyberpunk\n",
    "\n",
    "plt.style.use(\"cyberpunk\")"
   ]
  },
  {
   "cell_type": "code",
   "execution_count": 4,
   "metadata": {},
   "outputs": [],
   "source": [
    "with open(\"/home/artemiy/nlp_project/data/restaurants_reviews.jsonl\", \"r\") as file:\n",
    "    data_list = []\n",
    "    for line in file:\n",
    "        data = json.loads(line)\n",
    "        data_list.append(data)"
   ]
  },
  {
   "cell_type": "code",
   "execution_count": 5,
   "metadata": {},
   "outputs": [
    {
     "data": {
      "text/html": [
       "<div>\n",
       "<style scoped>\n",
       "    .dataframe tbody tr th:only-of-type {\n",
       "        vertical-align: middle;\n",
       "    }\n",
       "\n",
       "    .dataframe tbody tr th {\n",
       "        vertical-align: top;\n",
       "    }\n",
       "\n",
       "    .dataframe thead th {\n",
       "        text-align: right;\n",
       "    }\n",
       "</style>\n",
       "<table border=\"1\" class=\"dataframe\">\n",
       "  <thead>\n",
       "    <tr style=\"text-align: right;\">\n",
       "      <th></th>\n",
       "      <th>review_id</th>\n",
       "      <th>general</th>\n",
       "      <th>food</th>\n",
       "      <th>interior</th>\n",
       "      <th>service</th>\n",
       "      <th>text</th>\n",
       "    </tr>\n",
       "  </thead>\n",
       "  <tbody>\n",
       "    <tr>\n",
       "      <th>0</th>\n",
       "      <td>0</td>\n",
       "      <td>0</td>\n",
       "      <td>10</td>\n",
       "      <td>10</td>\n",
       "      <td>10</td>\n",
       "      <td>Вытянули меня сегодня в город и раз уж была в ...</td>\n",
       "    </tr>\n",
       "    <tr>\n",
       "      <th>1</th>\n",
       "      <td>1</td>\n",
       "      <td>0</td>\n",
       "      <td>9</td>\n",
       "      <td>10</td>\n",
       "      <td>9</td>\n",
       "      <td>проводили корпоратив на 60 чел. в этот - уже т...</td>\n",
       "    </tr>\n",
       "    <tr>\n",
       "      <th>2</th>\n",
       "      <td>2</td>\n",
       "      <td>0</td>\n",
       "      <td>9</td>\n",
       "      <td>10</td>\n",
       "      <td>10</td>\n",
       "      <td>Был в Гостях с женой один раз и еще раз с жено...</td>\n",
       "    </tr>\n",
       "    <tr>\n",
       "      <th>3</th>\n",
       "      <td>3</td>\n",
       "      <td>0</td>\n",
       "      <td>-</td>\n",
       "      <td>5</td>\n",
       "      <td>10</td>\n",
       "      <td>Бар понравился на первый взгляд .  Интерьер к ...</td>\n",
       "    </tr>\n",
       "    <tr>\n",
       "      <th>4</th>\n",
       "      <td>4</td>\n",
       "      <td>0</td>\n",
       "      <td>7</td>\n",
       "      <td>10</td>\n",
       "      <td>10</td>\n",
       "      <td>В « Bel Canto » мы отмечали юбилей моего отца ...</td>\n",
       "    </tr>\n",
       "  </tbody>\n",
       "</table>\n",
       "</div>"
      ],
      "text/plain": [
       "   review_id  general food interior service  \\\n",
       "0          0        0   10       10      10   \n",
       "1          1        0    9       10       9   \n",
       "2          2        0    9       10      10   \n",
       "3          3        0    -        5      10   \n",
       "4          4        0    7       10      10   \n",
       "\n",
       "                                                text  \n",
       "0  Вытянули меня сегодня в город и раз уж была в ...  \n",
       "1  проводили корпоратив на 60 чел. в этот - уже т...  \n",
       "2  Был в Гостях с женой один раз и еще раз с жено...  \n",
       "3  Бар понравился на первый взгляд .  Интерьер к ...  \n",
       "4  В « Bel Canto » мы отмечали юбилей моего отца ...  "
      ]
     },
     "execution_count": 5,
     "metadata": {},
     "output_type": "execute_result"
    }
   ],
   "source": [
    "df = pd.DataFrame(data_list)\n",
    "df.head()"
   ]
  },
  {
   "cell_type": "code",
   "execution_count": 59,
   "metadata": {},
   "outputs": [
    {
     "data": {
      "text/plain": [
       "general\n",
       "0    43940\n",
       "5     2164\n",
       "1      462\n",
       "4      257\n",
       "2      166\n",
       "3      150\n",
       "Name: count, dtype: int64"
      ]
     },
     "execution_count": 59,
     "metadata": {},
     "output_type": "execute_result"
    }
   ],
   "source": [
    "df['general'].value_counts()"
   ]
  },
  {
   "cell_type": "code",
   "execution_count": 60,
   "metadata": {},
   "outputs": [
    {
     "data": {
      "text/plain": [
       "(array([43940.,     0.,   462.,     0.,   166.,     0.,   150.,     0.,\n",
       "          257.,  2164.]),\n",
       " array([0. , 0.5, 1. , 1.5, 2. , 2.5, 3. , 3.5, 4. , 4.5, 5. ]),\n",
       " <BarContainer object of 10 artists>)"
      ]
     },
     "execution_count": 60,
     "metadata": {},
     "output_type": "execute_result"
    },
    {
     "data": {
      "image/png": "[encoded data removed]",
      "text/plain": [
       "<Figure size 640x480 with 1 Axes>"
      ]
     },
     "metadata": {},
     "output_type": "display_data"
    }
   ],
   "source": [
    "plt.hist(df['general'])"
   ]
  },
  {
   "cell_type": "code",
   "execution_count": 6,
   "metadata": {
    "notebookRunGroups": {
     "groupValue": "2"
    }
   },
   "outputs": [
    {
     "name": "stdout",
     "output_type": "stream",
     "text": [
      "26 декабря отмечала День Рождение в этом самом ресторане .  Выбирала\n",
      "очень тщательно и придирчиво .  Я не из любителей поесть , так что\n",
      "главной меркой для меня был интерьер , уют и комфорт , чтобы тихо и\n",
      "спокойно отметить вместе с семьей .  А если еда итальянская - еще\n",
      "лучше .  Металась между другим рестораном и \" Luce \" , очень хотела\n",
      "посетить панорамный ресторан , отказалась от первого , так как тот\n",
      "администратор сказал , что столиков около окон свободных на вечер\n",
      "26-ого декабря , которое выпадало на среду , не будет , ну что ж ,\n",
      "решила Люче так Люче , тем более что и интерьером он намного лучше и\n",
      "выше уровнем .  Действительно , фотографии не обманули - интерьер\n",
      "поистине шикарный , и приглушенный свет , и удобные наимягчайшие\n",
      "кресла , и неназойливые официанты радовали .  НО !!! подпортило\n",
      "абсолютно весь вечер вот что : тот самый единственный панорамный\n",
      "столик в этом маленьком ресторане , на который я и претендовала ,\n",
      "оказался занят .  Тот единственный столик , ради которого я и шла в\n",
      "это заведение ( остальные столики , кто там бывал подтвердят ,\n",
      "совершенно обычные , и вида никакого там нет ! ) .  Вопрос , зачем мне\n",
      "говорил администратор о том , что бронь там была с 15:00 и якобы к\n",
      "18:30 он уже наверняка освободится , что - конечно же приходите -\n",
      "поставил администратора в тупик .  На следующий мой вопрос , а можно\n",
      "ли будет пересесть за тот самый проклятый столик , как те посетители\n",
      "уйдут ( так как было видно , что они уже собирались уходить )\n",
      "администратор изобразила удивление : \" На него бронь с 20:00 \" Моей\n",
      "ярости не было конца .  А она мол : \" Они были уже давно забронировали\n",
      "и я понятия не имею , как это произошло , что вам сказали что они\n",
      "будут свободны \" Единственное , что она смогла предложить , это вино\n",
      "от заведения , но я - человек непьющий , и от этого вина мне ни тепло\n",
      ", ни холодно .  Мало того , по своей глупости , я случайно оставила\n",
      "очень дорогое кольцо из Китая на раковине в туалете .  Это произошло\n",
      "еще перед моим заказом , в самом начале .  Опомнившись минут через 10\n",
      ", я вскочила и мигом побежала за кольцом , как и следует - его там не\n",
      "оказалось .  Я обратилась к девушке , которая стояла при входе и явно\n",
      "видела кто заходит в туалет .  Она мол ничего и слыхом не слыхивала и\n",
      "ничего не знает , но побежала к уборщице .  Через 5-10 минут она\n",
      "подошла к моему стоику и тихо , деликатно объявила , что и та ничего\n",
      "не видела , и что мол семья , занимавшая панорамный столик , только\n",
      "что ушла , и возможно ресторан тут не причем , это все ОНИ .  Поняв ,\n",
      "что я и так ничего не верну , мне оставалось только рыдать горькими\n",
      "слезами .  Раз такие люди , ВОРЫ , посещают этот ресторан , то не жди\n",
      "ничего хорошего .  Приходить во второй раз в этот ресторан уже не\n",
      "хочется , не смотря на его красоту .\n"
     ]
    }
   ],
   "source": [
    "print(textwrap.fill(df['text'][13100]))"
   ]
  },
  {
   "cell_type": "code",
   "execution_count": 7,
   "metadata": {},
   "outputs": [],
   "source": [
    "with open(\n",
    "    \"/home/artemiy/nlp_project/data/stopwords-ru.txt\", \"r\", encoding=\"utf-8\"\n",
    ") as file:\n",
    "    stop_words = set(file.read().split())"
   ]
  },
  {
   "cell_type": "code",
   "execution_count": 8,
   "metadata": {},
   "outputs": [],
   "source": [
    "def has_emoji(text):\n",
    "    for character in text:\n",
    "        if character in emoji.demojize(text):\n",
    "            return 'эмодзи детектед'\n",
    "    return 'эмодзи не обнаружен'"
   ]
  },
  {
   "cell_type": "code",
   "execution_count": 9,
   "metadata": {},
   "outputs": [
    {
     "data": {
      "text/plain": [
       "15"
      ]
     },
     "execution_count": 9,
     "metadata": {},
     "output_type": "execute_result"
    }
   ],
   "source": [
    "len(has_emoji(df['text']))"
   ]
  },
  {
   "cell_type": "code",
   "execution_count": 10,
   "metadata": {},
   "outputs": [],
   "source": [
    "emoji_pattern = re.compile(\n",
    "    \"[\"\n",
    "    \"\\U0001F600-\\U0001F64F\"  # Emoticons\n",
    "    \"\\U0001F300-\\U0001F5FF\"  # Symbols & Pictographs\n",
    "    \"\\U0001F680-\\U0001F6FF\"  # Transport & Map Symbols\n",
    "    \"\\U0001F1E0-\\U0001F1FF\"  # Flags (iOS)\n",
    "    \"\\U00002700-\\U000027BF\"  # Dingbats\n",
    "    \"\\U0001F900-\\U0001F9FF\"  # Supplemental Symbols and Pictographs\n",
    "    \"\\U00002600-\\U000026FF\"  # Miscellaneous Symbols\n",
    "    \"\\U00002B50-\\U00002B55\"  # Miscellaneous Symbols and Pictographs\n",
    "    \"\\U0001FA70-\\U0001FAFF\"  # Symbols and Pictographs Extended-A\n",
    "    \"\\U0001F700-\\U0001F77F\"  # Alchemical Symbols\n",
    "    \"\\U0001F780-\\U0001F7FF\"  # Geometric Shapes Extended\n",
    "    \"\\U0001F800-\\U0001F8FF\"  # Supplemental Arrows-C\n",
    "    \"\\U0001F900-\\U0001F9FF\"  # Supplemental Symbols and Pictographs\n",
    "    \"\\U0001FA00-\\U0001FA6F\"  # Chess Symbols\n",
    "    \"]+\",\n",
    "    flags=re.UNICODE,\n",
    ")"
   ]
  },
  {
   "cell_type": "code",
   "execution_count": 11,
   "metadata": {},
   "outputs": [],
   "source": [
    "def clean(text, stop__words):\n",
    "    text = text.lower()  # нижний регистр\n",
    "    text = re.sub(r\"http\\S+\", \" \", text)  # удаляем ссылки\n",
    "    text = re.sub(r\"@\\w+\", \" \", text)  # удаляем упоминания пользователей\n",
    "    text = re.sub(r\"#\\w+\", \" \", text)  # удаляем хэштеги\n",
    "    text = re.sub(r\"\\d+\", \" \", text)  # удаляем числа\n",
    "    text = text.translate(str.maketrans(\"\", \"\", string.punctuation))\n",
    "    text = re.sub(r\"<.*?>\", \" \", text)  #\n",
    "    text = re.sub(r\"[️«»—]\", \" \", text)\n",
    "    text = re.sub(r\"[^а-яё ]\", \" \", text)\n",
    "    text = text.lower()\n",
    "    text = emoji_pattern.sub(r\"\", text)\n",
    "    text = \" \".join([word for word in text.split() if word not in stop__words])\n",
    "    return text"
   ]
  },
  {
   "cell_type": "code",
   "execution_count": 12,
   "metadata": {},
   "outputs": [],
   "source": [
    "clean_text = [clean(text, stop_words) for text in df[\"text\"]]"
   ]
  },
  {
   "cell_type": "code",
   "execution_count": 13,
   "metadata": {},
   "outputs": [
    {
     "name": "stdout",
     "output_type": "stream",
     "text": [
      "ждали друзей приезжали московский вокзал решили поесть баклажане меню\n",
      "большое яркое фотографиями определенно помогает разобраться блюдо\n",
      "заказала медальоны баклажанов плов подруга сациви хачапури поаджарски\n",
      "хинкали напитков выбрали байский чай деле порадовал вкусный необычный\n",
      "принесли комплимент маленькую лепешку соус еда понравилась подача\n",
      "плова улыбчивый узбек подходит столу располагается небольшом столике\n",
      "накладывает плов небольшого казана путешествия сказались температуре\n",
      "плова деле вкусным узбек предлагает положить чеснок лук помидоры\n",
      "огурцы люблю чеснок плова улыбчивый мужчина искренне обиделся\n",
      "отказалась деле чеснок вкусным обслуживание ужасным юноша обслуживал\n",
      "минуты редкого появления вроде соответствиями стандартами обслуживания\n",
      "редко находился зале просили подряд принести приборы дозаказать\n",
      "сметану хинкали счет\n"
     ]
    }
   ],
   "source": [
    "print(textwrap.fill(clean_text[1310]))"
   ]
  },
  {
   "cell_type": "code",
   "execution_count": 14,
   "metadata": {},
   "outputs": [],
   "source": [
    "morph = pymorphy3.MorphAnalyzer()"
   ]
  },
  {
   "cell_type": "code",
   "execution_count": 15,
   "metadata": {},
   "outputs": [],
   "source": [
    "def lemmatize(text):\n",
    "    words = text.split()\n",
    "    lem_words = [morph.parse(word)[0].normal_form for word in words]\n",
    "    return \" \".join(lem_words)"
   ]
  },
  {
   "cell_type": "code",
   "execution_count": 16,
   "metadata": {},
   "outputs": [],
   "source": [
    "lem_text = [lemmatize(text) for text in clean_text]"
   ]
  },
  {
   "cell_type": "code",
   "execution_count": 17,
   "metadata": {},
   "outputs": [
    {
     "name": "stdout",
     "output_type": "stream",
     "text": [
      "ждали друзей приезжали московский вокзал решили поесть баклажане меню\n",
      "большое яркое фотографиями определенно помогает разобраться блюдо\n",
      "заказала медальоны баклажанов плов подруга сациви хачапури поаджарски\n",
      "хинкали напитков выбрали байский чай деле порадовал вкусный необычный\n",
      "принесли комплимент маленькую лепешку соус еда понравилась подача\n",
      "плова улыбчивый узбек подходит столу располагается небольшом столике\n",
      "накладывает плов небольшого казана путешествия сказались температуре\n",
      "плова деле вкусным узбек предлагает положить чеснок лук помидоры\n",
      "огурцы люблю чеснок плова улыбчивый мужчина искренне обиделся\n",
      "отказалась деле чеснок вкусным обслуживание ужасным юноша обслуживал\n",
      "минуты редкого появления вроде соответствиями стандартами обслуживания\n",
      "редко находился зале просили подряд принести приборы дозаказать\n",
      "сметану хинкали счет\n"
     ]
    }
   ],
   "source": [
    "print(textwrap.fill(clean_text[1310]))"
   ]
  },
  {
   "cell_type": "code",
   "execution_count": 18,
   "metadata": {},
   "outputs": [
    {
     "name": "stdout",
     "output_type": "stream",
     "text": [
      "жаловаться отвратительный работа ресторанапивоварня балтика брю\n",
      "расположить адрес ул больший морской ходить вечером заставить\n",
      "заплатить разбитый посуда какоголибо акт счёт руб оплатить охрана\n",
      "предупредить охрана давать преградить хамить оскорблять ч матерно\n",
      "вступить драка ход пострадать ребята сильно избить девушка девушка\n",
      "увезти скорый ребята повезти травма вызвать полиция написать заявление\n",
      "заплатить заведение результат получить морда\n"
     ]
    }
   ],
   "source": [
    "print(textwrap.fill(lem_text[130]))"
   ]
  },
  {
   "cell_type": "code",
   "execution_count": 19,
   "metadata": {},
   "outputs": [],
   "source": [
    "vectorizer = TfidfVectorizer(\n",
    "    max_df=0.5,\n",
    "    min_df=5,\n",
    ")\n",
    "\n",
    "X_tfidf = vectorizer.fit_transform(lem_text)"
   ]
  },
  {
   "cell_type": "code",
   "execution_count": 20,
   "metadata": {},
   "outputs": [
    {
     "name": "stdout",
     "output_type": "stream",
     "text": [
      "Shape of TF-IDF matrix: (47139, 24678)\n"
     ]
    }
   ],
   "source": [
    "print(f\"Shape of TF-IDF matrix: {X_tfidf.shape}\")"
   ]
  },
  {
   "cell_type": "code",
   "execution_count": 21,
   "metadata": {},
   "outputs": [],
   "source": [
    "y = df['general'].values"
   ]
  },
  {
   "cell_type": "code",
   "execution_count": 22,
   "metadata": {},
   "outputs": [
    {
     "data": {
      "text/plain": [
       "(47139,)"
      ]
     },
     "execution_count": 22,
     "metadata": {},
     "output_type": "execute_result"
    }
   ],
   "source": [
    "y.shape"
   ]
  },
  {
   "cell_type": "code",
   "execution_count": 23,
   "metadata": {},
   "outputs": [],
   "source": [
    "X_train, X_test, y_train, y_test = train_test_split(X_tfidf, y, test_size=0.2, random_state=42)"
   ]
  },
  {
   "cell_type": "code",
   "execution_count": 62,
   "metadata": {},
   "outputs": [
    {
     "data": {
      "text/html": [
       "<style>#sk-container-id-3 {\n",
       "  /* Definition of color scheme common for light and dark mode */\n",
       "  --sklearn-color-text: black;\n",
       "  --sklearn-color-line: gray;\n",
       "  /* Definition of color scheme for unfitted estimators */\n",
       "  --sklearn-color-unfitted-level-0: #fff5e6;\n",
       "  --sklearn-color-unfitted-level-1: #f6e4d2;\n",
       "  --sklearn-color-unfitted-level-2: #ffe0b3;\n",
       "  --sklearn-color-unfitted-level-3: chocolate;\n",
       "  /* Definition of color scheme for fitted estimators */\n",
       "  --sklearn-color-fitted-level-0: #f0f8ff;\n",
       "  --sklearn-color-fitted-level-1: #d4ebff;\n",
       "  --sklearn-color-fitted-level-2: #b3dbfd;\n",
       "  --sklearn-color-fitted-level-3: cornflowerblue;\n",
       "\n",
       "  /* Specific color for light theme */\n",
       "  --sklearn-color-text-on-default-background: var(--sg-text-color, var(--theme-code-foreground, var(--jp-content-font-color1, black)));\n",
       "  --sklearn-color-background: var(--sg-background-color, var(--theme-background, var(--jp-layout-color0, white)));\n",
       "  --sklearn-color-border-box: var(--sg-text-color, var(--theme-code-foreground, var(--jp-content-font-color1, black)));\n",
       "  --sklearn-color-icon: #696969;\n",
       "\n",
       "  @media (prefers-color-scheme: dark) {\n",
       "    /* Redefinition of color scheme for dark theme */\n",
       "    --sklearn-color-text-on-default-background: var(--sg-text-color, var(--theme-code-foreground, var(--jp-content-font-color1, white)));\n",
       "    --sklearn-color-background: var(--sg-background-color, var(--theme-background, var(--jp-layout-color0, #111)));\n",
       "    --sklearn-color-border-box: var(--sg-text-color, var(--theme-code-foreground, var(--jp-content-font-color1, white)));\n",
       "    --sklearn-color-icon: #878787;\n",
       "  }\n",
       "}\n",
       "\n",
       "#sk-container-id-3 {\n",
       "  color: var(--sklearn-color-text);\n",
       "}\n",
       "\n",
       "#sk-container-id-3 pre {\n",
       "  padding: 0;\n",
       "}\n",
       "\n",
       "#sk-container-id-3 input.sk-hidden--visually {\n",
       "  border: 0;\n",
       "  clip: rect(1px 1px 1px 1px);\n",
       "  clip: rect(1px, 1px, 1px, 1px);\n",
       "  height: 1px;\n",
       "  margin: -1px;\n",
       "  overflow: hidden;\n",
       "  padding: 0;\n",
       "  position: absolute;\n",
       "  width: 1px;\n",
       "}\n",
       "\n",
       "#sk-container-id-3 div.sk-dashed-wrapped {\n",
       "  border: 1px dashed var(--sklearn-color-line);\n",
       "  margin: 0 0.4em 0.5em 0.4em;\n",
       "  box-sizing: border-box;\n",
       "  padding-bottom: 0.4em;\n",
       "  background-color: var(--sklearn-color-background);\n",
       "}\n",
       "\n",
       "#sk-container-id-3 div.sk-container {\n",
       "  /* jupyter's `normalize.less` sets `[hidden] { display: none; }`\n",
       "     but bootstrap.min.css set `[hidden] { display: none !important; }`\n",
       "     so we also need the `!important` here to be able to override the\n",
       "     default hidden behavior on the sphinx rendered scikit-learn.org.\n",
       "     See: https://github.com/scikit-learn/scikit-learn/issues/21755 */\n",
       "  display: inline-block !important;\n",
       "  position: relative;\n",
       "}\n",
       "\n",
       "#sk-container-id-3 div.sk-text-repr-fallback {\n",
       "  display: none;\n",
       "}\n",
       "\n",
       "div.sk-parallel-item,\n",
       "div.sk-serial,\n",
       "div.sk-item {\n",
       "  /* draw centered vertical line to link estimators */\n",
       "  background-image: linear-gradient(var(--sklearn-color-text-on-default-background), var(--sklearn-color-text-on-default-background));\n",
       "  background-size: 2px 100%;\n",
       "  background-repeat: no-repeat;\n",
       "  background-position: center center;\n",
       "}\n",
       "\n",
       "/* Parallel-specific style estimator block */\n",
       "\n",
       "#sk-container-id-3 div.sk-parallel-item::after {\n",
       "  content: \"\";\n",
       "  width: 100%;\n",
       "  border-bottom: 2px solid var(--sklearn-color-text-on-default-background);\n",
       "  flex-grow: 1;\n",
       "}\n",
       "\n",
       "#sk-container-id-3 div.sk-parallel {\n",
       "  display: flex;\n",
       "  align-items: stretch;\n",
       "  justify-content: center;\n",
       "  background-color: var(--sklearn-color-background);\n",
       "  position: relative;\n",
       "}\n",
       "\n",
       "#sk-container-id-3 div.sk-parallel-item {\n",
       "  display: flex;\n",
       "  flex-direction: column;\n",
       "}\n",
       "\n",
       "#sk-container-id-3 div.sk-parallel-item:first-child::after {\n",
       "  align-self: flex-end;\n",
       "  width: 50%;\n",
       "}\n",
       "\n",
       "#sk-container-id-3 div.sk-parallel-item:last-child::after {\n",
       "  align-self: flex-start;\n",
       "  width: 50%;\n",
       "}\n",
       "\n",
       "#sk-container-id-3 div.sk-parallel-item:only-child::after {\n",
       "  width: 0;\n",
       "}\n",
       "\n",
       "/* Serial-specific style estimator block */\n",
       "\n",
       "#sk-container-id-3 div.sk-serial {\n",
       "  display: flex;\n",
       "  flex-direction: column;\n",
       "  align-items: center;\n",
       "  background-color: var(--sklearn-color-background);\n",
       "  padding-right: 1em;\n",
       "  padding-left: 1em;\n",
       "}\n",
       "\n",
       "\n",
       "/* Toggleable style: style used for estimator/Pipeline/ColumnTransformer box that is\n",
       "clickable and can be expanded/collapsed.\n",
       "- Pipeline and ColumnTransformer use this feature and define the default style\n",
       "- Estimators will overwrite some part of the style using the `sk-estimator` class\n",
       "*/\n",
       "\n",
       "/* Pipeline and ColumnTransformer style (default) */\n",
       "\n",
       "#sk-container-id-3 div.sk-toggleable {\n",
       "  /* Default theme specific background. It is overwritten whether we have a\n",
       "  specific estimator or a Pipeline/ColumnTransformer */\n",
       "  background-color: var(--sklearn-color-background);\n",
       "}\n",
       "\n",
       "/* Toggleable label */\n",
       "#sk-container-id-3 label.sk-toggleable__label {\n",
       "  cursor: pointer;\n",
       "  display: block;\n",
       "  width: 100%;\n",
       "  margin-bottom: 0;\n",
       "  padding: 0.5em;\n",
       "  box-sizing: border-box;\n",
       "  text-align: center;\n",
       "}\n",
       "\n",
       "#sk-container-id-3 label.sk-toggleable__label-arrow:before {\n",
       "  /* Arrow on the left of the label */\n",
       "  content: \"▸\";\n",
       "  float: left;\n",
       "  margin-right: 0.25em;\n",
       "  color: var(--sklearn-color-icon);\n",
       "}\n",
       "\n",
       "#sk-container-id-3 label.sk-toggleable__label-arrow:hover:before {\n",
       "  color: var(--sklearn-color-text);\n",
       "}\n",
       "\n",
       "/* Toggleable content - dropdown */\n",
       "\n",
       "#sk-container-id-3 div.sk-toggleable__content {\n",
       "  max-height: 0;\n",
       "  max-width: 0;\n",
       "  overflow: hidden;\n",
       "  text-align: left;\n",
       "  /* unfitted */\n",
       "  background-color: var(--sklearn-color-unfitted-level-0);\n",
       "}\n",
       "\n",
       "#sk-container-id-3 div.sk-toggleable__content.fitted {\n",
       "  /* fitted */\n",
       "  background-color: var(--sklearn-color-fitted-level-0);\n",
       "}\n",
       "\n",
       "#sk-container-id-3 div.sk-toggleable__content pre {\n",
       "  margin: 0.2em;\n",
       "  border-radius: 0.25em;\n",
       "  color: var(--sklearn-color-text);\n",
       "  /* unfitted */\n",
       "  background-color: var(--sklearn-color-unfitted-level-0);\n",
       "}\n",
       "\n",
       "#sk-container-id-3 div.sk-toggleable__content.fitted pre {\n",
       "  /* unfitted */\n",
       "  background-color: var(--sklearn-color-fitted-level-0);\n",
       "}\n",
       "\n",
       "#sk-container-id-3 input.sk-toggleable__control:checked~div.sk-toggleable__content {\n",
       "  /* Expand drop-down */\n",
       "  max-height: 200px;\n",
       "  max-width: 100%;\n",
       "  overflow: auto;\n",
       "}\n",
       "\n",
       "#sk-container-id-3 input.sk-toggleable__control:checked~label.sk-toggleable__label-arrow:before {\n",
       "  content: \"▾\";\n",
       "}\n",
       "\n",
       "/* Pipeline/ColumnTransformer-specific style */\n",
       "\n",
       "#sk-container-id-3 div.sk-label input.sk-toggleable__control:checked~label.sk-toggleable__label {\n",
       "  color: var(--sklearn-color-text);\n",
       "  background-color: var(--sklearn-color-unfitted-level-2);\n",
       "}\n",
       "\n",
       "#sk-container-id-3 div.sk-label.fitted input.sk-toggleable__control:checked~label.sk-toggleable__label {\n",
       "  background-color: var(--sklearn-color-fitted-level-2);\n",
       "}\n",
       "\n",
       "/* Estimator-specific style */\n",
       "\n",
       "/* Colorize estimator box */\n",
       "#sk-container-id-3 div.sk-estimator input.sk-toggleable__control:checked~label.sk-toggleable__label {\n",
       "  /* unfitted */\n",
       "  background-color: var(--sklearn-color-unfitted-level-2);\n",
       "}\n",
       "\n",
       "#sk-container-id-3 div.sk-estimator.fitted input.sk-toggleable__control:checked~label.sk-toggleable__label {\n",
       "  /* fitted */\n",
       "  background-color: var(--sklearn-color-fitted-level-2);\n",
       "}\n",
       "\n",
       "#sk-container-id-3 div.sk-label label.sk-toggleable__label,\n",
       "#sk-container-id-3 div.sk-label label {\n",
       "  /* The background is the default theme color */\n",
       "  color: var(--sklearn-color-text-on-default-background);\n",
       "}\n",
       "\n",
       "/* On hover, darken the color of the background */\n",
       "#sk-container-id-3 div.sk-label:hover label.sk-toggleable__label {\n",
       "  color: var(--sklearn-color-text);\n",
       "  background-color: var(--sklearn-color-unfitted-level-2);\n",
       "}\n",
       "\n",
       "/* Label box, darken color on hover, fitted */\n",
       "#sk-container-id-3 div.sk-label.fitted:hover label.sk-toggleable__label.fitted {\n",
       "  color: var(--sklearn-color-text);\n",
       "  background-color: var(--sklearn-color-fitted-level-2);\n",
       "}\n",
       "\n",
       "/* Estimator label */\n",
       "\n",
       "#sk-container-id-3 div.sk-label label {\n",
       "  font-family: monospace;\n",
       "  font-weight: bold;\n",
       "  display: inline-block;\n",
       "  line-height: 1.2em;\n",
       "}\n",
       "\n",
       "#sk-container-id-3 div.sk-label-container {\n",
       "  text-align: center;\n",
       "}\n",
       "\n",
       "/* Estimator-specific */\n",
       "#sk-container-id-3 div.sk-estimator {\n",
       "  font-family: monospace;\n",
       "  border: 1px dotted var(--sklearn-color-border-box);\n",
       "  border-radius: 0.25em;\n",
       "  box-sizing: border-box;\n",
       "  margin-bottom: 0.5em;\n",
       "  /* unfitted */\n",
       "  background-color: var(--sklearn-color-unfitted-level-0);\n",
       "}\n",
       "\n",
       "#sk-container-id-3 div.sk-estimator.fitted {\n",
       "  /* fitted */\n",
       "  background-color: var(--sklearn-color-fitted-level-0);\n",
       "}\n",
       "\n",
       "/* on hover */\n",
       "#sk-container-id-3 div.sk-estimator:hover {\n",
       "  /* unfitted */\n",
       "  background-color: var(--sklearn-color-unfitted-level-2);\n",
       "}\n",
       "\n",
       "#sk-container-id-3 div.sk-estimator.fitted:hover {\n",
       "  /* fitted */\n",
       "  background-color: var(--sklearn-color-fitted-level-2);\n",
       "}\n",
       "\n",
       "/* Specification for estimator info (e.g. \"i\" and \"?\") */\n",
       "\n",
       "/* Common style for \"i\" and \"?\" */\n",
       "\n",
       ".sk-estimator-doc-link,\n",
       "a:link.sk-estimator-doc-link,\n",
       "a:visited.sk-estimator-doc-link {\n",
       "  float: right;\n",
       "  font-size: smaller;\n",
       "  line-height: 1em;\n",
       "  font-family: monospace;\n",
       "  background-color: var(--sklearn-color-background);\n",
       "  border-radius: 1em;\n",
       "  height: 1em;\n",
       "  width: 1em;\n",
       "  text-decoration: none !important;\n",
       "  margin-left: 1ex;\n",
       "  /* unfitted */\n",
       "  border: var(--sklearn-color-unfitted-level-1) 1pt solid;\n",
       "  color: var(--sklearn-color-unfitted-level-1);\n",
       "}\n",
       "\n",
       ".sk-estimator-doc-link.fitted,\n",
       "a:link.sk-estimator-doc-link.fitted,\n",
       "a:visited.sk-estimator-doc-link.fitted {\n",
       "  /* fitted */\n",
       "  border: var(--sklearn-color-fitted-level-1) 1pt solid;\n",
       "  color: var(--sklearn-color-fitted-level-1);\n",
       "}\n",
       "\n",
       "/* On hover */\n",
       "div.sk-estimator:hover .sk-estimator-doc-link:hover,\n",
       ".sk-estimator-doc-link:hover,\n",
       "div.sk-label-container:hover .sk-estimator-doc-link:hover,\n",
       ".sk-estimator-doc-link:hover {\n",
       "  /* unfitted */\n",
       "  background-color: var(--sklearn-color-unfitted-level-3);\n",
       "  color: var(--sklearn-color-background);\n",
       "  text-decoration: none;\n",
       "}\n",
       "\n",
       "div.sk-estimator.fitted:hover .sk-estimator-doc-link.fitted:hover,\n",
       ".sk-estimator-doc-link.fitted:hover,\n",
       "div.sk-label-container:hover .sk-estimator-doc-link.fitted:hover,\n",
       ".sk-estimator-doc-link.fitted:hover {\n",
       "  /* fitted */\n",
       "  background-color: var(--sklearn-color-fitted-level-3);\n",
       "  color: var(--sklearn-color-background);\n",
       "  text-decoration: none;\n",
       "}\n",
       "\n",
       "/* Span, style for the box shown on hovering the info icon */\n",
       ".sk-estimator-doc-link span {\n",
       "  display: none;\n",
       "  z-index: 9999;\n",
       "  position: relative;\n",
       "  font-weight: normal;\n",
       "  right: .2ex;\n",
       "  padding: .5ex;\n",
       "  margin: .5ex;\n",
       "  width: min-content;\n",
       "  min-width: 20ex;\n",
       "  max-width: 50ex;\n",
       "  color: var(--sklearn-color-text);\n",
       "  box-shadow: 2pt 2pt 4pt #999;\n",
       "  /* unfitted */\n",
       "  background: var(--sklearn-color-unfitted-level-0);\n",
       "  border: .5pt solid var(--sklearn-color-unfitted-level-3);\n",
       "}\n",
       "\n",
       ".sk-estimator-doc-link.fitted span {\n",
       "  /* fitted */\n",
       "  background: var(--sklearn-color-fitted-level-0);\n",
       "  border: var(--sklearn-color-fitted-level-3);\n",
       "}\n",
       "\n",
       ".sk-estimator-doc-link:hover span {\n",
       "  display: block;\n",
       "}\n",
       "\n",
       "/* \"?\"-specific style due to the `<a>` HTML tag */\n",
       "\n",
       "#sk-container-id-3 a.estimator_doc_link {\n",
       "  float: right;\n",
       "  font-size: 1rem;\n",
       "  line-height: 1em;\n",
       "  font-family: monospace;\n",
       "  background-color: var(--sklearn-color-background);\n",
       "  border-radius: 1rem;\n",
       "  height: 1rem;\n",
       "  width: 1rem;\n",
       "  text-decoration: none;\n",
       "  /* unfitted */\n",
       "  color: var(--sklearn-color-unfitted-level-1);\n",
       "  border: var(--sklearn-color-unfitted-level-1) 1pt solid;\n",
       "}\n",
       "\n",
       "#sk-container-id-3 a.estimator_doc_link.fitted {\n",
       "  /* fitted */\n",
       "  border: var(--sklearn-color-fitted-level-1) 1pt solid;\n",
       "  color: var(--sklearn-color-fitted-level-1);\n",
       "}\n",
       "\n",
       "/* On hover */\n",
       "#sk-container-id-3 a.estimator_doc_link:hover {\n",
       "  /* unfitted */\n",
       "  background-color: var(--sklearn-color-unfitted-level-3);\n",
       "  color: var(--sklearn-color-background);\n",
       "  text-decoration: none;\n",
       "}\n",
       "\n",
       "#sk-container-id-3 a.estimator_doc_link.fitted:hover {\n",
       "  /* fitted */\n",
       "  background-color: var(--sklearn-color-fitted-level-3);\n",
       "}\n",
       "</style><div id=\"sk-container-id-3\" class=\"sk-top-container\"><div class=\"sk-text-repr-fallback\"><pre>LogisticRegression(class_weight=&#x27;balanced&#x27;, max_iter=1000, random_state=42)</pre><b>In a Jupyter environment, please rerun this cell to show the HTML representation or trust the notebook. <br />On GitHub, the HTML representation is unable to render, please try loading this page with nbviewer.org.</b></div><div class=\"sk-container\" hidden><div class=\"sk-item\"><div class=\"sk-estimator fitted sk-toggleable\"><input class=\"sk-toggleable__control sk-hidden--visually\" id=\"sk-estimator-id-3\" type=\"checkbox\" checked><label for=\"sk-estimator-id-3\" class=\"sk-toggleable__label fitted sk-toggleable__label-arrow fitted\">&nbsp;&nbsp;LogisticRegression<a class=\"sk-estimator-doc-link fitted\" rel=\"noreferrer\" target=\"_blank\" href=\"https://scikit-learn.org/1.5/modules/generated/sklearn.linear_model.LogisticRegression.html\">?<span>Documentation for LogisticRegression</span></a><span class=\"sk-estimator-doc-link fitted\">i<span>Fitted</span></span></label><div class=\"sk-toggleable__content fitted\"><pre>LogisticRegression(class_weight=&#x27;balanced&#x27;, max_iter=1000, random_state=42)</pre></div> </div></div></div></div>"
      ],
      "text/plain": [
       "LogisticRegression(class_weight='balanced', max_iter=1000, random_state=42)"
      ]
     },
     "execution_count": 62,
     "metadata": {},
     "output_type": "execute_result"
    }
   ],
   "source": [
    "clf = LogisticRegression(random_state=42, class_weight='balanced', max_iter=1000)\n",
    "clf.fit(X_train, y_train)"
   ]
  },
  {
   "cell_type": "code",
   "execution_count": 63,
   "metadata": {},
   "outputs": [],
   "source": [
    "y_pred = clf.predict(X_test)"
   ]
  },
  {
   "cell_type": "code",
   "execution_count": 64,
   "metadata": {},
   "outputs": [
    {
     "name": "stdout",
     "output_type": "stream",
     "text": [
      "accuracy = 0.769622401357658\n"
     ]
    }
   ],
   "source": [
    "accuracy_on_reviews_logreg = accuracy_score(y_test, y_pred)\n",
    "print(f\"accuracy = {accuracy_on_reviews_logreg}\")"
   ]
  },
  {
   "cell_type": "code",
   "execution_count": 65,
   "metadata": {},
   "outputs": [
    {
     "name": "stdout",
     "output_type": "stream",
     "text": [
      "f1 score = 0.8237539521587526\n"
     ]
    }
   ],
   "source": [
    "f1_on_reviews_logreg = f1_score(y_test, y_pred, average='weighted')\n",
    "print(f\"f1 score = {f1_on_reviews_logreg}\")"
   ]
  },
  {
   "cell_type": "code",
   "execution_count": 47,
   "metadata": {},
   "outputs": [],
   "source": [
    "rating_dict = {\n",
    "    0: \"Отвратительно! Даже не подходите к этому месту!\",\n",
    "    1: \"Плохо! Лучше бы остался дома.\",\n",
    "    2: \"Удовлетворительно, но не без недостатков. Ешьте на свой страх и риск.\",\n",
    "    3: \"Хорошо! Вполне достойное место для трапезы.\",\n",
    "    4: \"Отлично! Обязательно вернусь еще раз.\",\n",
    "    5: \"Великолепно! Как в раю, только с едой.\",\n",
    "}"
   ]
  },
  {
   "cell_type": "code",
   "execution_count": 53,
   "metadata": {},
   "outputs": [],
   "source": [
    "test_reviews = {\n",
    "    0: [\n",
    "        \"Еда была ужасной, а обслуживание еще хуже. Никогда сюда больше не вернусь!\",\n",
    "       ],\n",
    "    1: [\n",
    "        \"Еда была не очень, и обслуживание оставляет желать лучшего.\"\n",
    "    ],\n",
    "    2: [\n",
    "        \"Неплохо, но могло быть и лучше.\"\n",
    "    ],\n",
    "    3: [\n",
    "        \"Хорошее место, вернусь еще раз.\"\n",
    "    ],\n",
    "    4: [\n",
    "        \"Отличное место! Очень доволен.\"\n",
    "    ],\n",
    "    5: [\n",
    "        \"Великолепно! Как в раю, только с едой.\"\n",
    "    ],\n",
    "}"
   ]
  },
  {
   "cell_type": "code",
   "execution_count": 73,
   "metadata": {},
   "outputs": [],
   "source": [
    "# Функция предсказания\n",
    "def predict_review(review):\n",
    "    start_time = time.time()\n",
    "\n",
    "    # Очистка и лемматизация текста\n",
    "    clean_text = clean(review, stop_words)\n",
    "    lem_text = lemmatize(clean_text)\n",
    "\n",
    "    # Преобразование текста в TF-IDF представление\n",
    "    X_new = vectorizer.transform([lem_text])\n",
    "\n",
    "    # Предсказание\n",
    "    prediction = clf.predict(X_new)[0]\n",
    "\n",
    "    # Проверка допустимости предсказания\n",
    "    if prediction not in rating_dict:\n",
    "        rating = \"Ошибка предсказания\"\n",
    "    else:\n",
    "        rating = rating_dict[prediction]\n",
    "\n",
    "    # Измерение времени\n",
    "    end_time = time.time()\n",
    "    elapsed_time = end_time - start_time\n",
    "\n",
    "    print(f\"Лейбл: {prediction}\")\n",
    "    print(f\"Оценка отзыва: {rating}\")\n",
    "    print(f\"Затраченное время: {elapsed_time:.6f} seconds\")\n",
    "    print()"
   ]
  },
  {
   "cell_type": "code",
   "execution_count": 74,
   "metadata": {},
   "outputs": [
    {
     "name": "stdout",
     "output_type": "stream",
     "text": [
      "Testing reviews with expected rating 0:\n",
      "Лейбл: 1\n",
      "Оценка отзыва: Плохо! Лучше бы остался дома.\n",
      "Затраченное время: 0.000853 seconds\n",
      "\n",
      "None\n",
      "Testing reviews with expected rating 1:\n",
      "Лейбл: 0\n",
      "Оценка отзыва: Отвратительно! Даже не подходите к этому месту!\n",
      "Затраченное время: 0.000685 seconds\n",
      "\n",
      "None\n",
      "Testing reviews with expected rating 2:\n",
      "Лейбл: 0\n",
      "Оценка отзыва: Отвратительно! Даже не подходите к этому месту!\n",
      "Затраченное время: 0.000513 seconds\n",
      "\n",
      "None\n",
      "Testing reviews with expected rating 3:\n",
      "Лейбл: 0\n",
      "Оценка отзыва: Отвратительно! Даже не подходите к этому месту!\n",
      "Затраченное время: 0.000438 seconds\n",
      "\n",
      "None\n",
      "Testing reviews with expected rating 4:\n",
      "Лейбл: 5\n",
      "Оценка отзыва: Великолепно! Как в раю, только с едой.\n",
      "Затраченное время: 0.000389 seconds\n",
      "\n",
      "None\n",
      "Testing reviews with expected rating 5:\n",
      "Лейбл: 0\n",
      "Оценка отзыва: Отвратительно! Даже не подходите к этому месту!\n",
      "Затраченное время: 0.000444 seconds\n",
      "\n",
      "None\n"
     ]
    }
   ],
   "source": [
    "for rating, reviews in test_reviews.items():\n",
    "    print(f\"Testing reviews with expected rating {rating}:\")\n",
    "    for review in reviews:\n",
    "        result = predict_review(review)\n",
    "        print(result)"
   ]
  },
  {
   "cell_type": "code",
   "execution_count": 75,
   "metadata": {},
   "outputs": [
    {
     "name": "stdout",
     "output_type": "stream",
     "text": [
      "Лейбл: 4\n",
      "Оценка отзыва: Отлично! Обязательно вернусь еще раз.\n",
      "Затраченное время: 0.001250 seconds\n",
      "\n",
      "None\n"
     ]
    }
   ],
   "source": [
    "review = \"Достойное обслуживание и приятная атмосфера. В целом нормально\"\n",
    "print(predict_review(review))"
   ]
  },
  {
   "cell_type": "code",
   "execution_count": 78,
   "metadata": {},
   "outputs": [
    {
     "name": "stdout",
     "output_type": "stream",
     "text": [
      "Лейбл: 2\n",
      "Оценка отзыва: Удовлетворительно, но не без недостатков. Ешьте на свой страх и риск.\n",
      "Затраченное время: 0.001238 seconds\n",
      "\n"
     ]
    }
   ],
   "source": [
    "predict_review('Место полное говно, больше никогда в жизни сюда не приду. Еда отвратительная. Официантка красивая. Хлеб свежий')"
   ]
  }
 ],
 "metadata": {
  "kernelspec": {
   "display_name": "nlp_project",
   "language": "python",
   "name": "python3"
  },
  "language_info": {
   "codemirror_mode": {
    "name": "ipython",
    "version": 3
   },
   "file_extension": ".py",
   "mimetype": "text/x-python",
   "name": "python",
   "nbconvert_exporter": "python",
   "pygments_lexer": "ipython3",
   "version": "3.11.9"
  }
 },
 "nbformat": 4,
 "nbformat_minor": 2
}
